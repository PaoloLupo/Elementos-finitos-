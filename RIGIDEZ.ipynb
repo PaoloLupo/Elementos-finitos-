{
 "cells": [
  {
   "cell_type": "code",
   "execution_count": 3,
   "metadata": {},
   "outputs": [],
   "source": [
    "import math\n",
    "import numpy as np\n",
    "import matplotlib.pyplot as plt\n",
    "import sympy as sp"
   ]
  },
  {
   "cell_type": "code",
   "execution_count": 4,
   "metadata": {
    "pycharm": {
     "name": "#%%\n"
    }
   },
   "outputs": [],
   "source": [
    "#posicion de los nodos coordenadas\n",
    "nodos = np.array([\n",
    "    (0,0),\n",
    "    (10,0),\n",
    "    (10,10),\n",
    " ])\n",
    "\n",
    "# una lista de nodos y grados de libertad\n",
    "N_NODOS = np.array([*range(len(nodos))])\n",
    "NODOS_GDL = np.array([*range(3*len(nodos))])\n"
   ]
  },
  {
   "cell_type": "code",
   "execution_count": 6,
   "metadata": {
    "pycharm": {
     "name": "#%%\n"
    }
   },
   "outputs": [],
   "source": [
    "#especificando cada elemento, si faltan agregar mas\n",
    "# [nodoi,nodoj, E, area, I]\n",
    "\n",
    "ELEMENTOS = np.array([\n",
    "    [1, 2, 1, 100, 1],\n",
    "    [2, 3, 1, 50, 1],\n",
    "    [1, 3, 1, 200*math.sqrt(2), 1]\n",
    "])"
   ]
  },
  {
   "cell_type": "code",
   "execution_count": 7,
   "metadata": {
    "pycharm": {
     "name": "#%%\n"
    }
   },
   "outputs": [
    {
     "data": {
      "text/plain": "<Figure size 432x288 with 1 Axes>",
      "image/png": "[encoded data removed]"
     },
     "metadata": {
      "needs_background": "light"
     },
     "output_type": "display_data"
    }
   ],
   "source": [
    "#configurando matplotlib\n",
    "plt.axes().set_aspect('equal')\n",
    "plt.axis('off')\n",
    "\n",
    "#dibujando los nodos\n",
    "plt.plot(nodos[:,0], nodos[:,1], 'k.', markersize= 15, color='b')\n",
    "\n",
    "#dibujando elementos\n",
    "#es un loop alrededor de la matriz ELEMENTOS, tomando los\n",
    "#valores de X y Y de cada elemento\n",
    "\n",
    "for i in range(len(ELEMENTOS)):\n",
    "    plt.plot(np.array([\n",
    "    nodos[int(ELEMENTOS[i,0]-1),0], nodos[int(ELEMENTOS[i,1]-1),0]]),\n",
    "        np.array([nodos[int(ELEMENTOS[i,0]-1),1], nodos[int(ELEMENTOS[i,1]-1),1]]),\n",
    "        'k-', color='r'\n",
    "    )\n",
    "\n",
    "plt.show()"
   ]
  },
  {
   "cell_type": "code",
   "execution_count": 8,
   "metadata": {
    "pycharm": {
     "name": "#%%\n"
    }
   },
   "outputs": [
    {
     "data": {
      "text/plain": "array([[2, 1, 0],\n       [3, 1, 0],\n       [3, 2, 0],\n       [3, 3, 0]])"
     },
     "execution_count": 8,
     "metadata": {},
     "output_type": "execute_result"
    }
   ],
   "source": [
    "# CONDICIONES DE FRONTERA\n",
    "# CF = [nodo, GDL(x=1 ,y=2, theta=3), valor]\n",
    "\n",
    "CF = np.array([\n",
    "    (2,1,0),\n",
    "    (3,1,0),\n",
    "    (3,2,0),\n",
    "    (3,3,0)\n",
    "])\n",
    "CF"
   ]
  },
  {
   "cell_type": "code",
   "execution_count": 9,
   "metadata": {
    "pycharm": {
     "name": "#%%\n"
    }
   },
   "outputs": [
    {
     "data": {
      "text/plain": "array([[ 2,  1,  0],\n       [ 3,  1, 10],\n       [ 3,  2,  1]])"
     },
     "execution_count": 9,
     "metadata": {},
     "output_type": "execute_result"
    }
   ],
   "source": [
    "# FUERZAS\n",
    "# FUERZAS = (nodo,GDL(x=1,y=2),magnitud de la fuerza)\n",
    "\n",
    "FUERZAS = np.array([\n",
    "    (2,1,0),\n",
    "\n",
    "    (3,1,10),\n",
    "    (3,2,1)\n",
    "])\n",
    "FUERZAS\n"
   ]
  },
  {
   "cell_type": "code",
   "execution_count": 10,
   "metadata": {
    "pycharm": {
     "name": "#%%\n"
    }
   },
   "outputs": [],
   "source": [
    "# HALLANDO MATRICES DE RIGIDEZ POR ELEMENTO\n",
    "F = np.zeros(3*len(nodos))\n",
    "K = np.zeros([3*len(nodos),3*len(nodos)])\n"
   ]
  },
  {
   "cell_type": "code",
   "execution_count": 11,
   "metadata": {
    "pycharm": {
     "name": "#%%\n"
    }
   },
   "outputs": [],
   "source": [
    "#funcion que retorna valor de coordenadas en cada elemento\n",
    "def XY(nodos,ELEMENTOS,i):\n",
    "    return np.array([\n",
    "        nodos[int(ELEMENTOS[i,0]-1)],\n",
    "        nodos[int(ELEMENTOS[i,1]-1)]\n",
    "    ])\n"
   ]
  },
  {
   "cell_type": "code",
   "execution_count": 12,
   "metadata": {
    "pycharm": {
     "name": "#%%\n"
    }
   },
   "outputs": [
    {
     "data": {
      "text/plain": "Matrix([\n[ 0, 0],\n[10, 0]])",
      "text/latex": "$\\displaystyle \\left[\\begin{matrix}0 & 0\\\\10 & 0\\end{matrix}\\right]$"
     },
     "execution_count": 12,
     "metadata": {},
     "output_type": "execute_result"
    }
   ],
   "source": [
    "# colocar numero de elemento para generar matri\n",
    "N_ELEMENTO = 1\n",
    "sp.Matrix(XY(nodos,ELEMENTOS,N_ELEMENTO-1))\n"
   ]
  },
  {
   "cell_type": "code",
   "execution_count": 13,
   "metadata": {
    "pycharm": {
     "name": "#%%\n"
    }
   },
   "outputs": [],
   "source": [
    "#funcion para matriz de rigidez de cada elemento\n",
    "def KEL(XY, E, A):\n",
    "    x1, y1, x2, y2 = XY[0,0], XY[0,1], XY[1,0], XY[1,1]\n",
    "    L = math.sqrt((x2-x1)**2 + (y2-y1)**2)\n",
    "\n",
    "    KEL = E*A/L * np.array([\n",
    "        (1,0,-1,0),\n",
    "        (0,0,0,0),\n",
    "        (-1,0,1,0),\n",
    "        (0,0,0,0)\n",
    "    ])\n",
    "    return KEL\n"
   ]
  },
  {
   "cell_type": "code",
   "execution_count": 14,
   "metadata": {
    "pycharm": {
     "name": "#%%\n"
    }
   },
   "outputs": [
    {
     "data": {
      "text/plain": "Matrix([\n[ 20.0, 0.0, -20.0, 0.0],\n[  0.0, 0.0,   0.0, 0.0],\n[-20.0, 0.0,  20.0, 0.0],\n[  0.0, 0.0,   0.0, 0.0]])",
      "text/latex": "$\\displaystyle \\left[\\begin{matrix}20.0 & 0.0 & -20.0 & 0.0\\\\0.0 & 0.0 & 0.0 & 0.0\\\\-20.0 & 0.0 & 20.0 & 0.0\\\\0.0 & 0.0 & 0.0 & 0.0\\end{matrix}\\right]$"
     },
     "execution_count": 14,
     "metadata": {},
     "output_type": "execute_result"
    }
   ],
   "source": [
    "#matriz de rigidez global del elemento\n",
    "N_ELEMENTO = 3\n",
    "\n",
    "sp.Matrix(KEL(XY(nodos, ELEMENTOS,N_ELEMENTO-1),\n",
    "          ELEMENTOS[N_ELEMENTO-1,2],\n",
    "          ELEMENTOS[N_ELEMENTO-1,3]\n",
    "          ))"
   ]
  },
  {
   "cell_type": "code",
   "execution_count": 15,
   "metadata": {
    "pycharm": {
     "name": "#%%\n"
    }
   },
   "outputs": [],
   "source": [
    "# matriz de rigidez en coordenadas globales\n",
    "\n",
    "def KGEL(XY, E, A):\n",
    "    x1, y1, x2, y2 = XY[0,0], XY[0,1], XY[1,0], XY[1,1]\n",
    "    L = math.sqrt((x2-x1)**2 + (y2-y1)**2)\n",
    "\n",
    "    if x2-x1==0:\n",
    "        c = 0\n",
    "        s = 1\n",
    "    else:\n",
    "        theta = math.atan((y2-y1)/(x2-x1))\n",
    "        c = np.cos(theta)\n",
    "        s = np.sin(theta)\n",
    "\n",
    "    KGEL = E*A/L * np.array([\n",
    "        (c**2, s*c, -c**2, -s*c),\n",
    "        (s*c, s**2, -s*c, -s**2),\n",
    "        (-c**2, -s*c, c**2, s*c),\n",
    "        (-s*c, -s**2, s*c, s**2)\n",
    "    ])\n",
    "    return KGEL\n",
    "\n"
   ]
  },
  {
   "cell_type": "code",
   "execution_count": 16,
   "metadata": {
    "pycharm": {
     "name": "#%%\n"
    }
   },
   "outputs": [
    {
     "data": {
      "text/plain": "Matrix([\n[ 10.0,  10.0, -10.0, -10.0],\n[ 10.0,  10.0, -10.0, -10.0],\n[-10.0, -10.0,  10.0,  10.0],\n[-10.0, -10.0,  10.0,  10.0]])",
      "text/latex": "$\\displaystyle \\left[\\begin{matrix}10.0 & 10.0 & -10.0 & -10.0\\\\10.0 & 10.0 & -10.0 & -10.0\\\\-10.0 & -10.0 & 10.0 & 10.0\\\\-10.0 & -10.0 & 10.0 & 10.0\\end{matrix}\\right]$"
     },
     "execution_count": 16,
     "metadata": {},
     "output_type": "execute_result"
    }
   ],
   "source": [
    "#ejemplo matriz global de un elemento\n",
    "N_ELEMENTO = 3\n",
    "\n",
    "\n",
    "sp.Matrix(KGEL(XY(nodos, ELEMENTOS,N_ELEMENTO-1),\n",
    "          ELEMENTOS[N_ELEMENTO-1,2],\n",
    "          ELEMENTOS[N_ELEMENTO-1,3]\n",
    "          ))\n",
    "\n"
   ]
  },
  {
   "cell_type": "code",
   "execution_count": 17,
   "metadata": {
    "pycharm": {
     "name": "#%%\n"
    }
   },
   "outputs": [],
   "source": [
    "#definiendo posición matriz ensamblada\n",
    "def GDL(ELEMENTOS,i):\n",
    "    nodo_GDL_i = int(ELEMENTOS[i-1,:2][0])\n",
    "    nodo_GDL_j = int(ELEMENTOS[i-1,:2][1])\n",
    "    elemento_GDL = np.array([\n",
    "        (2*nodo_GDL_i-1),\n",
    "        (2*nodo_GDL_i),\n",
    "        (2*nodo_GDL_j-1),\n",
    "        (2*nodo_GDL_j)\n",
    "    ])\n",
    "    return elemento_GDL\n"
   ]
  },
  {
   "cell_type": "code",
   "execution_count": 19,
   "metadata": {
    "pycharm": {
     "name": "#%%\n"
    }
   },
   "outputs": [
    {
     "data": {
      "text/plain": "array([[ 10.,  10., -10., -10.],\n       [ 10.,  10., -10., -10.],\n       [-10., -10.,  10.,  10.],\n       [-10., -10.,  10.,  10.]])"
     },
     "execution_count": 19,
     "metadata": {},
     "output_type": "execute_result"
    }
   ],
   "source": [
    "E_1 = KGEL(XY(nodos, ELEMENTOS,N_ELEMENTO-1),\n",
    "          ELEMENTOS[N_ELEMENTO-1,2],\n",
    "          ELEMENTOS[N_ELEMENTO-1,3]\n",
    "          )\n",
    "E_1\n"
   ]
  },
  {
   "cell_type": "code",
   "execution_count": 23,
   "metadata": {
    "pycharm": {
     "name": "#%%\n"
    }
   },
   "outputs": [],
   "source": [
    "# primera prueba funcion emsamblada\n",
    "def ENSAMBLADA(N_ELEMENTO):\n",
    "    M_ENSAMBLADA = np.zeros([2*len(nodos),2*len(nodos)])\n",
    "    E_i = KGEL(XY(nodos, ELEMENTOS,N_ELEMENTO-1),\n",
    "          ELEMENTOS[N_ELEMENTO-1,2],\n",
    "          ELEMENTOS[N_ELEMENTO-1,3]\n",
    "          )\n",
    "    GDL_i = GDL(ELEMENTOS,N_ELEMENTO)\n",
    "\n",
    "    for i in range(0,4):\n",
    "        for j in range(0,4):\n",
    "            M_ENSAMBLADA[GDL_i[i]-1,GDL_i[j]-1] = E_i[i,j]\n",
    "\n",
    "    return M_ENSAMBLADA\n"
   ]
  },
  {
   "cell_type": "code",
   "execution_count": 25,
   "metadata": {
    "pycharm": {
     "name": "#%%\n"
    }
   },
   "outputs": [],
   "source": [
    "# creando matriz de rigidez global MKTOTAL (READY)\n",
    "def KGLOBAL():\n",
    "    KGLOBAL = np.zeros([2*len(nodos),2*len(nodos)])\n",
    "\n",
    "    for i in range(1,len(ELEMENTOS)+1):\n",
    "        ki = ENSAMBLADA(i)\n",
    "        KGLOBAL += ki\n",
    "    return KGLOBAL"
   ]
  },
  {
   "cell_type": "code",
   "execution_count": 26,
   "metadata": {
    "pycharm": {
     "name": "#%%\n"
    }
   },
   "outputs": [
    {
     "data": {
      "text/plain": "Matrix([\n[ 20.0,  10.0, -10.0,  0.0, -10.0, -10.0],\n[ 10.0,  10.0,   0.0,  0.0, -10.0, -10.0],\n[-10.0,   0.0,  10.0,  0.0,   0.0,   0.0],\n[  0.0,   0.0,   0.0,  5.0,   0.0,  -5.0],\n[-10.0, -10.0,   0.0,  0.0,  10.0,  10.0],\n[-10.0, -10.0,   0.0, -5.0,  10.0,  15.0]])",
      "text/latex": "$\\displaystyle \\left[\\begin{matrix}20.0 & 10.0 & -10.0 & 0.0 & -10.0 & -10.0\\\\10.0 & 10.0 & 0.0 & 0.0 & -10.0 & -10.0\\\\-10.0 & 0.0 & 10.0 & 0.0 & 0.0 & 0.0\\\\0.0 & 0.0 & 0.0 & 5.0 & 0.0 & -5.0\\\\-10.0 & -10.0 & 0.0 & 0.0 & 10.0 & 10.0\\\\-10.0 & -10.0 & 0.0 & -5.0 & 10.0 & 15.0\\end{matrix}\\right]$"
     },
     "execution_count": 26,
     "metadata": {},
     "output_type": "execute_result"
    }
   ],
   "source": [
    "# MATRIZ RIGIDEZ GLOBAL\n",
    "K_GLOBAL = KGLOBAL()\n",
    "sp.Matrix(KGLOBAL())"
   ]
  },
  {
   "cell_type": "code",
   "execution_count": 27,
   "metadata": {
    "pycharm": {
     "name": "#%%\n"
    }
   },
   "outputs": [],
   "source": [
    "#FASE SOLUCIÓN\n",
    "# declarando condiciones de frontera\n",
    "# especificar condiciones de cada nudo\n",
    "#por ejemplo 0= movimiento restringido 1= con movimiento\n",
    "T_NODO = np.array([\n",
    "    (1,0,0),\n",
    "    (2,0,1),\n",
    "    (3,1,1)\n",
    "])\n",
    "\n",
    "M_u = np.array(len(nodos))\n",
    "\n",
    "\n"
   ]
  },
  {
   "cell_type": "code",
   "execution_count": 28,
   "metadata": {
    "pycharm": {
     "name": "#%%\n"
    }
   },
   "outputs": [
    {
     "data": {
      "text/plain": "Matrix([\n[2, 1,  0],\n[3, 1, 10],\n[3, 2,  1]])",
      "text/latex": "$\\displaystyle \\left[\\begin{matrix}2 & 1 & 0\\\\3 & 1 & 10\\\\3 & 2 & 1\\end{matrix}\\right]$"
     },
     "execution_count": 28,
     "metadata": {},
     "output_type": "execute_result"
    }
   ],
   "source": [
    "sp.Matrix(FUERZAS)"
   ]
  },
  {
   "cell_type": "code",
   "execution_count": 29,
   "metadata": {
    "pycharm": {
     "name": "#%%\n"
    }
   },
   "outputs": [],
   "source": [
    "#funcion para reducir matriz global\n",
    "def f_red():\n",
    "    n = np.array([])\n",
    "    for i in range(len(FUERZAS)):\n",
    "        m= np.array((FUERZAS[i,0] * 2 - 3 ) + (FUERZAS[i,1]))\n",
    "        n = np.insert(n,i,m)\n",
    "    return n\n",
    "#matriz de valores para reducir\n",
    "v_red = f_red()"
   ]
  },
  {
   "cell_type": "code",
   "execution_count": 30,
   "metadata": {
    "pycharm": {
     "name": "#%%\n"
    }
   },
   "outputs": [
    {
     "data": {
      "text/plain": "Matrix([\n[10.0,  0.0,  0.0],\n[ 0.0, 10.0, 10.0],\n[ 0.0, 10.0, 15.0]])",
      "text/latex": "$\\displaystyle \\left[\\begin{matrix}10.0 & 0.0 & 0.0\\\\0.0 & 10.0 & 10.0\\\\0.0 & 10.0 & 15.0\\end{matrix}\\right]$"
     },
     "execution_count": 30,
     "metadata": {},
     "output_type": "execute_result"
    }
   ],
   "source": [
    "#matriz reducida\n",
    "def KRed():\n",
    "    KRed = np.empty([len(FUERZAS),len(FUERZAS)])\n",
    "    for i in range(len(FUERZAS)):\n",
    "        for j in range(len(FUERZAS)):\n",
    "            z = f_red()\n",
    "            a = int(z[i])\n",
    "            b = int(z[j])\n",
    "            KRed[i, j] = K_GLOBAL[a,b]\n",
    "    return KRed\n",
    "\n",
    "KRed= KRed()\n",
    "sp.Matrix(KRed)"
   ]
  },
  {
   "cell_type": "code",
   "execution_count": 31,
   "metadata": {
    "pycharm": {
     "name": "#%%\n"
    }
   },
   "outputs": [
    {
     "data": {
      "text/plain": "Matrix([\n[ 0],\n[10],\n[ 1]])",
      "text/latex": "$\\displaystyle \\left[\\begin{matrix}0\\\\10\\\\1\\end{matrix}\\right]$"
     },
     "execution_count": 31,
     "metadata": {},
     "output_type": "execute_result"
    }
   ],
   "source": [
    "#matriz de fuerza\n",
    "F = FUERZAS[0:,2]\n",
    "sp.Matrix(F)\n"
   ]
  },
  {
   "cell_type": "code",
   "execution_count": 32,
   "metadata": {
    "pycharm": {
     "name": "#%%\n"
    }
   },
   "outputs": [
    {
     "data": {
      "text/plain": "Matrix([\n[0.1,  0.0,  0.0],\n[0.0,  0.3, -0.2],\n[0.0, -0.2,  0.2]])",
      "text/latex": "$\\displaystyle \\left[\\begin{matrix}0.1 & 0.0 & 0.0\\\\0.0 & 0.3 & -0.2\\\\0.0 & -0.2 & 0.2\\end{matrix}\\right]$"
     },
     "execution_count": 32,
     "metadata": {},
     "output_type": "execute_result"
    }
   ],
   "source": [
    "#hallando dezplazamientos desconocidos\n",
    "#matriz inverza de la reducida\n",
    "Kred_inv = np.linalg.inv(KRed)\n",
    "sp.Matrix(Kred_inv)\n"
   ]
  },
  {
   "cell_type": "code",
   "execution_count": 33,
   "metadata": {
    "pycharm": {
     "name": "#%%\n"
    }
   },
   "outputs": [
    {
     "data": {
      "text/plain": "Matrix([\n[ 0.0],\n[ 2.8],\n[-1.8]])",
      "text/latex": "$\\displaystyle \\left[\\begin{matrix}0.0\\\\2.8\\\\-1.8\\end{matrix}\\right]$"
     },
     "execution_count": 33,
     "metadata": {},
     "output_type": "execute_result"
    }
   ],
   "source": [
    "#multiplicacion con la matriz de fuerzas\n",
    "u_desc = np.matmul(Kred_inv,F)\n",
    "#valores de dezplazamiento\n",
    "sp.Matrix(u_desc)\n"
   ]
  },
  {
   "cell_type": "code",
   "execution_count": 34,
   "metadata": {
    "pycharm": {
     "name": "#%%\n"
    }
   },
   "outputs": [
    {
     "data": {
      "text/plain": "Matrix([\n[ 0.0],\n[ 0.0],\n[ 0.0],\n[ 0.0],\n[ 2.8],\n[-1.8]])",
      "text/latex": "$\\displaystyle \\left[\\begin{matrix}0.0\\\\0.0\\\\0.0\\\\0.0\\\\2.8\\\\-1.8\\end{matrix}\\right]$"
     },
     "execution_count": 34,
     "metadata": {},
     "output_type": "execute_result"
    }
   ],
   "source": [
    "#declarar valores de dezplazamiento si las hay (matriz u)\n",
    "u = np.empty([2*len(nodos)])\n",
    "\n",
    "for i in range(len(v_red)):\n",
    "    u[int(v_red[i])]= u_desc[i]\n",
    "\n",
    "sp.Matrix(u)\n"
   ]
  },
  {
   "cell_type": "code",
   "execution_count": 35,
   "metadata": {
    "pycharm": {
     "name": "#%%\n"
    }
   },
   "outputs": [
    {
     "data": {
      "text/plain": "Matrix([\n[-10.0],\n[-10.0],\n[  0.0],\n[  9.0],\n[ 10.0],\n[  1.0]])",
      "text/latex": "$\\displaystyle \\left[\\begin{matrix}-10.0\\\\-10.0\\\\0.0\\\\9.0\\\\10.0\\\\1.0\\end{matrix}\\right]$"
     },
     "execution_count": 35,
     "metadata": {},
     "output_type": "execute_result"
    }
   ],
   "source": [
    "# resultados Fuerzas faltantes\n",
    "F_des = np.matmul(K_GLOBAL,u)\n",
    "sp.Matrix(F_des)"
   ]
  },
  {
   "cell_type": "code",
   "execution_count": 36,
   "metadata": {
    "pycharm": {
     "name": "#%%\n"
    }
   },
   "outputs": [],
   "source": [
    "#definicion de nodos desplazados\n",
    "n_nodos = nodos + u.reshape(len(nodos),2)"
   ]
  },
  {
   "cell_type": "code",
   "execution_count": 37,
   "metadata": {
    "pycharm": {
     "name": "#%%\n"
    }
   },
   "outputs": [
    {
     "data": {
      "text/plain": "<Figure size 432x288 with 1 Axes>",
      "image/png": "[encoded data removed]"
     },
     "metadata": {
      "needs_background": "light"
     },
     "output_type": "display_data"
    }
   ],
   "source": [
    "# PLOTEO ARMADURA \n",
    "plt.axes().set_aspect('equal')\n",
    "plt.axis('off')\n",
    "#elemento inicial\n",
    "plt.plot(nodos[:,0], nodos[:,1], 'k.', markersize= 15, color='b')\n",
    "#elemento desplazado\n",
    "plt.plot(n_nodos[:,0], n_nodos[:,1], 'k.', markersize= 15, color='r')\n",
    "#elemento inicial\n",
    "for i in range(len(ELEMENTOS)):\n",
    "    plt.plot(np.array([\n",
    "    nodos[int(ELEMENTOS[i,0]-1),0], nodos[int(ELEMENTOS[i,1]-1),0]]),\n",
    "        np.array([nodos[int(ELEMENTOS[i,0]-1),1], nodos[int(ELEMENTOS[i,1]-1),1]]),\n",
    "        'k-', color='b'\n",
    "    )\n",
    "#elemento desplazado\n",
    "for i in range(len(ELEMENTOS)):\n",
    "    plt.plot(np.array([\n",
    "    n_nodos[int(ELEMENTOS[i,0]-1),0], n_nodos[int(ELEMENTOS[i,1]-1),0]]),\n",
    "        np.array([n_nodos[int(ELEMENTOS[i,0]-1),1], n_nodos[int(ELEMENTOS[i,1]-1),1]]),\n",
    "        'k-', color='r'\n",
    "    )\n",
    "\n",
    "plt.show()"
   ]
  },
  {
   "cell_type": "code",
   "execution_count": 37,
   "metadata": {
    "pycharm": {
     "name": "#%%\n"
    }
   },
   "outputs": [],
   "source": [
    "\n"
   ]
  }
 ],
 "metadata": {
  "kernelspec": {
   "display_name": "Python 3",
   "language": "python",
   "name": "python3"
  },
  "language_info": {
   "codemirror_mode": {
    "name": "ipython",
    "version": 3
   },
   "file_extension": ".py",
   "mimetype": "text/x-python",
   "name": "python",
   "nbconvert_exporter": "python",
   "pygments_lexer": "ipython3",
   "version": "3.7.6"
  }
 },
 "nbformat": 4,
 "nbformat_minor": 1
}